{
 "cells": [
  {
   "cell_type": "code",
   "execution_count": 1,
   "metadata": {
    "collapsed": true
   },
   "outputs": [],
   "source": [
    "require 'nn';\n",
    "require 'nngraph';\n",
    "require 'image';\n",
    "torch.setdefaulttensortype('torch.FloatTensor')"
   ]
  },
  {
   "cell_type": "code",
   "execution_count": 2,
   "metadata": {
    "collapsed": false
   },
   "outputs": [],
   "source": [
    "d = torch.load('colornet.t7')"
   ]
  },
  {
   "cell_type": "code",
   "execution_count": 3,
   "metadata": {
    "collapsed": false
   },
   "outputs": [],
   "source": [
    "model = d.model"
   ]
  },
  {
   "cell_type": "code",
   "execution_count": 4,
   "metadata": {
    "collapsed": false
   },
   "outputs": [
    {
     "data": {
      "text/plain": [
       "nn.Sequential {\n",
       "  [input -> (1) -> (2) -> (3) -> (4) -> (5) -> (6) -> (7) -> (8) -> (9) -> (10) -> (11) -> (12) -> output]\n",
       "  (1): nn.SpatialConvolution(1 -> 64, 3x3, 2,2, 1,1)\n",
       "  (2): nn.ReLU\n",
       "  (3): nn.SpatialConvolution(64 -> 128, 3x3, 1,1, 1,1)\n",
       "  (4): nn.ReLU\n",
       "  (5): nn.SpatialConvolution(128 -> 128, 3x3, 2,2, 1,1)\n",
       "  (6): nn.ReLU\n",
       "  (7): nn.SpatialConvolution(128 -> 256, 3x3, 1,1, 1,1)\n",
       "  (8): nn.ReLU\n",
       "  (9): nn.SpatialConvolution(256 -> 256, 3x3, 2,2, 1,1)\n",
       "  (10): nn.ReLU\n",
       "  (11): nn.SpatialConvolution(256 -> 512, 3x3, 1,1, 1,1)\n",
       "  (12): nn.ReLU\n",
       "}\n",
       "{\n",
       "  gradInput : FloatTensor - empty\n",
       "  modules : \n",
       "    {\n",
       "      1 : \n",
       "        nn.SpatialConvolution(1 -> 64, 3x3, 2,2, 1,1)\n",
       "        {\n",
       "          padW : 1\n",
       "          nInputPlane : 1\n",
       "          output : FloatTensor - empty\n",
       "          gradInput : FloatTensor - empty\n",
       "          dH : 2\n",
       "          dW : 2\n",
       "          nOutputPlane : 64\n",
       "          padH : 1\n",
       "          kH : 3\n",
       "          finput : FloatTensor - empty\n",
       "          weight : FloatTensor - size: 64x1x3x3\n",
       "          train : false\n",
       "          gradWeight : FloatTensor - size: 64x1x3x3\n",
       "          kW : 3\n",
       "  "
      ]
     },
     "execution_count": 4,
     "metadata": {},
     "output_type": "execute_result"
    },
    {
     "data": {
      "text/plain": [
       "        bias : FloatTensor - size: 64\n",
       "          gradBias : FloatTensor - size: 64\n",
       "          fgradInput : FloatTensor - empty\n",
       "        }\n",
       "      2 : \n",
       "        nn.ReLU\n",
       "        {\n",
       "          inplace : true\n",
       "          threshold : 0\n",
       "          val : 0\n",
       "          output : FloatTensor - empty\n",
       "          gradInput : FloatTensor - empty\n",
       "          train : false\n",
       "        }\n",
       "      3 : \n",
       "        nn.SpatialConvolution(64 -> 128, 3x3, 1,1, 1,1)\n",
       "        {\n",
       "          padW : 1\n",
       "          nInputPlane : 64\n",
       "          output : FloatTensor - empty\n",
       "          gradInput : FloatTensor - empty\n",
       "          dH : 1\n",
       "          dW : 1\n",
       "          nOutputPlane : 128\n",
       "          padH : 1\n",
       "          kH : 3\n",
       "          finput : FloatTensor - empty\n",
       "          weight : FloatTensor - size: 128x64x3x3\n",
       "          train : false\n",
       "          gradWeight : FloatTensor - size: 128x64x3x3\n",
       "          kW : 3\n",
       "          bias : FloatTensor - size: 128\n",
       "          gradBias : FloatTensor - size: 128\n",
       "          fgradInput : FloatTensor - empty\n",
       "        }\n",
       "      4 : \n",
       "        nn.ReLU\n",
       "        {\n",
       "          inplace : true\n",
       "          threshold : 0\n",
       "          val : 0\n",
       "          output : FloatTensor - empty\n",
       "          gradInput : FloatTensor - empty\n",
       "          train : false\n",
       "        }\n",
       "      5 : \n",
       "        nn.SpatialConvolution(128 -> 128, 3x3, 2,2, 1,1)\n",
       "        {\n",
       "          padW : 1\n",
       "  "
      ]
     },
     "execution_count": 4,
     "metadata": {},
     "output_type": "execute_result"
    },
    {
     "data": {
      "text/plain": [
       "        nInputPlane : 128\n",
       "          output : FloatTensor - empty\n",
       "          gradInput : FloatTensor - empty\n",
       "          dH : 2\n",
       "          dW : 2\n",
       "          nOutputPlane : 128\n",
       "          padH : 1\n",
       "          kH : 3\n",
       "          finput : FloatTensor - empty\n",
       "          weight : FloatTensor - size: 128x128x3x3\n",
       "          train : false\n",
       "          gradWeight : FloatTensor - size: 128x128x3x3\n",
       "          kW : 3\n",
       "          bias : FloatTensor - size: 128\n",
       "          gradBias : FloatTensor - size: 128\n",
       "          fgradInput : FloatTensor - empty\n",
       "        }\n",
       "      6 : \n",
       "        nn.ReLU\n",
       "        {\n",
       "          inplace : true\n",
       "          threshold : 0\n",
       "          val : 0\n",
       "          output : FloatTensor - empty\n",
       "          gradInput : FloatTensor - empty\n",
       "          train : false\n",
       "        }\n",
       "      7 : \n",
       "        nn.SpatialConvolution(128 -> 256, 3x3, 1,1, 1,1)\n",
       "        {\n",
       "          padW : 1\n",
       "          nInputPlane : 128\n",
       "          output : FloatTensor - empty\n",
       "          gradInput : FloatTensor - empty\n",
       "          dH : 1\n",
       "          dW : 1\n",
       "          nOutputPlane : 256\n",
       "          padH : 1\n",
       "          kH : 3\n",
       "          finput : FloatTensor - empty\n"
      ]
     },
     "execution_count": 4,
     "metadata": {},
     "output_type": "execute_result"
    },
    {
     "data": {
      "text/plain": [
       "          weight : FloatTensor - size: 256x128x3x3\n",
       "          train : false\n",
       "          gradWeight : FloatTensor - size: 256x128x3x3\n",
       "          kW : 3\n",
       "          bias : FloatTensor - size: 256\n",
       "          gradBias : FloatTensor - size: 256\n",
       "          fgradInput : FloatTensor - empty\n",
       "        }\n",
       "      8 : \n",
       "        nn.ReLU\n",
       "        {\n",
       "          inplace : true\n",
       "          threshold : 0\n",
       "          val : 0\n",
       "          output : FloatTensor - empty\n",
       "          gradInput : FloatTensor - empty\n",
       "          train : false\n",
       "        }\n",
       "      9 : \n",
       "        nn.SpatialConvolution(256 -> 256, 3x3, 2,2, 1,1)\n",
       "        {\n",
       "          padW : 1\n",
       "          nInputPlane : 256\n",
       "          output : FloatTensor - empty\n",
       "          gradInput : FloatTensor - empty\n",
       "          dH : 2\n",
       "          dW : 2\n",
       "          nOutputPlane : 256\n",
       "          padH : 1\n",
       "          kH : 3\n",
       "          finput : FloatTensor - empty\n",
       "          weight : FloatTensor - size: 256x256x3x3\n",
       "          train : false\n",
       "          gradWeight : FloatTensor - size: 256x256x3x3\n",
       "          kW : 3\n",
       "          bias : FloatTensor - size: 256\n",
       "          gradBias : FloatTensor - size: 256\n",
       "       "
      ]
     },
     "execution_count": 4,
     "metadata": {},
     "output_type": "execute_result"
    },
    {
     "data": {
      "text/plain": [
       "   fgradInput : FloatTensor - empty\n",
       "        }\n",
       "      10 : \n",
       "        nn.ReLU\n",
       "        {\n",
       "          inplace : true\n",
       "          threshold : 0\n",
       "          val : 0\n",
       "          output : FloatTensor - empty\n",
       "          gradInput : FloatTensor - empty\n",
       "          train : false\n",
       "        }\n",
       "      11 : \n",
       "        nn.SpatialConvolution(256 -> 512, 3x3, 1,1, 1,1)\n",
       "        {\n",
       "          padW : 1\n",
       "          nInputPlane : 256\n",
       "          output : FloatTensor - empty\n",
       "          gradInput : FloatTensor - empty\n",
       "          dH : 1\n",
       "          dW : 1\n",
       "          nOutputPlane : 512\n",
       "          padH : 1\n",
       "          kH : 3\n",
       "          finput : FloatTensor - empty\n",
       "          weight : FloatTensor - size: 512x256x3x3\n",
       "          train : false\n",
       "          gradWeight : FloatTensor - size: 512x256x3x3\n",
       "          kW : 3\n",
       "          bias : FloatTensor - size: 512\n",
       "          gradBias : FloatTensor - size: 512\n",
       "          fgradInput : FloatTensor - empty\n",
       "        }\n",
       "      12 : \n",
       "        nn.ReLU\n",
       "        {\n",
       "          inplace : true\n",
       "          threshold : 0\n",
       "          val : 0\n",
       "          output : FloatTensor - empty\n",
       "          gradInput : FloatTensor - empty\n",
       "          train : false\n",
       "   "
      ]
     },
     "execution_count": 4,
     "metadata": {},
     "output_type": "execute_result"
    },
    {
     "data": {
      "text/plain": [
       "     }\n",
       "    }\n",
       "  train : false\n",
       "  output : FloatTensor - empty\n",
       "}\n"
      ]
     },
     "execution_count": 4,
     "metadata": {},
     "output_type": "execute_result"
    }
   ],
   "source": [
    "model.forwardnodes[7].data.module"
   ]
  },
  {
   "cell_type": "code",
   "execution_count": 5,
   "metadata": {
    "collapsed": false
   },
   "outputs": [
    {
     "data": {
      "text/plain": [
       "nn.Sequential {\n",
       "  [input -> (1) -> (2) -> (3) -> (4) -> (5) -> (6) -> (7) -> (8) -> (9) -> (10) -> (11) -> (12) -> output]\n",
       "  (1): nn.SpatialConvolution(1 -> 64, 3x3, 2,2, 1,1)\n",
       "  (2): nn.ReLU\n",
       "  (3): nn.SpatialConvolution(64 -> 128, 3x3, 1,1, 1,1)\n",
       "  (4): nn.ReLU\n",
       "  (5): nn.SpatialConvolution(128 -> 128, 3x3, 2,2, 1,1)\n",
       "  (6): nn.ReLU\n",
       "  (7): nn.SpatialConvolution(128 -> 256, 3x3, 1,1, 1,1)\n",
       "  (8): nn.ReLU\n",
       "  (9): nn.SpatialConvolution(256 -> 256, 3x3, 2,2, 1,1)\n",
       "  (10): nn.ReLU\n",
       "  (11): nn.SpatialConvolution(256 -> 512, 3x3, 1,1, 1,1)\n",
       "  (12): nn.ReLU\n",
       "}\n",
       "{\n",
       "  gradInput : FloatTensor - empty\n",
       "  modules : \n",
       "    {\n",
       "      1 : \n",
       "        nn.SpatialConvolution(1 -> 64, 3x3, 2,2, 1,1)\n",
       "        {\n",
       "          padW : 1\n",
       "          nInputPlane : 1\n",
       "          output : FloatTensor - empty\n",
       "          gradInput : FloatTensor - empty\n",
       "          dH : 2\n",
       "          dW : 2\n",
       "          nOutputPlane : 64\n",
       "          padH : 1\n",
       "          kH : 3\n",
       "          finput : FloatTensor - empty\n",
       "          weight : FloatTensor - size: 64x1x3x3\n",
       "          train : false\n",
       "          gradWeight : FloatTensor - size: 64x1x3x3\n",
       "          kW : 3\n",
       "          bias : FloatTensor - size: 64\n",
       "          gradBias : FloatTensor - size: 64\n",
       "          fgradInput : FloatTensor - empty\n",
       "        }"
      ]
     },
     "execution_count": 5,
     "metadata": {},
     "output_type": "execute_result"
    },
    {
     "data": {
      "text/plain": [
       "\n",
       "      2 : \n",
       "        nn.ReLU\n",
       "        {\n",
       "          inplace : true\n",
       "          threshold : 0\n",
       "          val : 0\n",
       "          output : FloatTensor - empty\n",
       "          gradInput : FloatTensor - empty\n",
       "          train : false\n",
       "        }\n",
       "      3 : \n",
       "        nn.SpatialConvolution(64 -> 128, 3x3, 1,1, 1,1)\n",
       "        {\n",
       "          padW : 1\n",
       "          nInputPlane : 64\n",
       "          output : FloatTensor - empty\n",
       "          gradInput : FloatTensor - empty\n",
       "          dH : 1\n",
       "          dW : 1\n",
       "          nOutputPlane : 128\n",
       "          padH : 1\n",
       "          kH : 3\n",
       "          finput : FloatTensor - empty\n",
       "          weight : FloatTensor - size: 128x64x3x3\n",
       "          train : false\n",
       "          gradWeight : FloatTensor - size: 128x64x3x3\n",
       "          kW : 3\n",
       "          bias : FloatTensor - size: 128\n",
       "          gradBias : FloatTensor - size: 128\n",
       "          fgradInput : FloatTensor - empty\n",
       "        }\n",
       "      4 : \n",
       "        nn.ReLU\n",
       "        {\n",
       "          inplace : true\n",
       "          threshold : 0\n",
       "          val : 0\n",
       "          output : FloatTensor - empty\n",
       "          gradInput : FloatTensor - empty\n",
       "          train : false\n",
       "        }"
      ]
     },
     "execution_count": 5,
     "metadata": {},
     "output_type": "execute_result"
    },
    {
     "data": {
      "text/plain": [
       "\n",
       "      5 : \n",
       "        nn.SpatialConvolution(128 -> 128, 3x3, 2,2, 1,1)\n",
       "        {\n",
       "          padW : 1\n",
       "          nInputPlane : 128\n",
       "          output : FloatTensor - empty\n",
       "          gradInput : FloatTensor - empty\n",
       "          dH : 2\n",
       "          dW : 2\n",
       "          nOutputPlane : 128\n",
       "          padH : 1\n",
       "          kH : 3\n",
       "          finput : FloatTensor - empty\n",
       "          weight : FloatTensor - size: 128x128x3x3\n",
       "          train : false\n",
       "          gradWeight : FloatTensor - size: 128x128x3x3\n",
       "          kW : 3\n",
       "          bias : FloatTensor - size: 128\n",
       "          gradBias : FloatTensor - size: 128\n",
       "          fgradInput : FloatTensor - empty\n",
       "        }\n",
       "      6 : \n",
       "        nn.ReLU\n",
       "        {\n",
       "          inplace : true\n",
       "          threshold : 0\n",
       "          val : 0\n",
       "          output : FloatTensor - empty\n",
       "          gradInput : FloatTensor - empty\n",
       "          train : false\n",
       "        }\n",
       "      7 : \n",
       "        nn.SpatialConvolution(128 -> 256, 3x3, 1,1, 1,1)\n",
       "        {\n",
       "          padW : 1\n",
       "          nInputPlane : 128\n",
       "          output : FloatTensor - empty\n",
       " "
      ]
     },
     "execution_count": 5,
     "metadata": {},
     "output_type": "execute_result"
    },
    {
     "data": {
      "text/plain": [
       "         gradInput : FloatTensor - empty\n",
       "          dH : 1\n",
       "          dW : 1\n",
       "          nOutputPlane : 256\n",
       "          padH : 1\n",
       "          kH : 3\n",
       "          finput : FloatTensor - empty\n",
       "          weight : FloatTensor - size: 256x128x3x3\n",
       "          train : false\n",
       "          gradWeight : FloatTensor - size: 256x128x3x3\n",
       "          kW : 3\n",
       "          bias : FloatTensor - size: 256\n",
       "          gradBias : FloatTensor - size: 256\n",
       "          fgradInput : FloatTensor - empty\n",
       "        }\n",
       "      8 : \n",
       "        nn.ReLU\n",
       "        {\n",
       "          inplace : true\n",
       "          threshold : 0\n",
       "          val : 0\n",
       "          output : FloatTensor - empty\n",
       "          gradInput : FloatTensor - empty\n",
       "          train : false\n",
       "        }\n",
       "      9 : \n",
       "        nn.SpatialConvolution(256 -> 256, 3x3, 2,2, 1,1)\n",
       "        {\n",
       "          padW : 1\n",
       "          nInputPlane : 256\n",
       "          output : FloatTensor - empty\n",
       "          gradInput : FloatTensor - empty\n",
       "          dH : 2\n",
       "          dW : 2\n",
       "          nOutputPlane : 256\n",
       "          padH : 1\n",
       "          kH : 3\n",
       "          finput : FloatTensor - empty\n",
       "          weight : FloatTensor - size: 256x256x3x3\n",
       " "
      ]
     },
     "execution_count": 5,
     "metadata": {},
     "output_type": "execute_result"
    },
    {
     "data": {
      "text/plain": [
       "         train : false\n",
       "          gradWeight : FloatTensor - size: 256x256x3x3\n",
       "          kW : 3\n",
       "          bias : FloatTensor - size: 256\n",
       "          gradBias : FloatTensor - size: 256\n",
       "          fgradInput : FloatTensor - empty\n",
       "        }\n",
       "      10 : \n",
       "        nn.ReLU\n",
       "        {\n",
       "          inplace : true\n",
       "          threshold : 0\n",
       "          val : 0\n",
       "          output : FloatTensor - empty\n",
       "          gradInput : FloatTensor - empty\n",
       "          train : false\n",
       "        }\n",
       "      11 : \n",
       "        nn.SpatialConvolution(256 -> 512, 3x3, 1,1, 1,1)\n",
       "        {\n",
       "          padW : 1\n",
       "          nInputPlane : 256\n",
       "          output : FloatTensor - empty\n",
       "          gradInput : FloatTensor - empty\n",
       "          dH : 1\n",
       "          dW : 1\n",
       "          nOutputPlane : 512\n",
       "          padH : 1\n",
       "          kH : 3\n",
       "          finput : FloatTensor - empty\n",
       "          weight : FloatTensor - size: 512x256x3x3\n",
       "          train : false\n",
       "          gradWeight : FloatTensor - size: 512x256x3x3\n",
       "          kW : 3\n",
       "          bias : FloatTensor - size: 512\n",
       "          gradBias : FloatTensor - size: 512\n",
       "          fgradInput : FloatTensor - empty\n",
       "        }\n",
       "      12 : \n",
       "        nn.ReLU\n",
       "        {\n",
       "          inplace : true\n",
       "          threshold : 0\n",
       "          val : 0\n",
       "          output : FloatTensor - empty\n",
       "        "
      ]
     },
     "execution_count": 5,
     "metadata": {},
     "output_type": "execute_result"
    },
    {
     "data": {
      "text/plain": [
       "  gradInput : FloatTensor - empty\n",
       "          train : false\n",
       "        }\n",
       "    }\n",
       "  train : false\n",
       "  output : FloatTensor - empty\n",
       "}\n"
      ]
     },
     "execution_count": 5,
     "metadata": {},
     "output_type": "execute_result"
    }
   ],
   "source": [
    "testModel = model.forwardnodes[7].data.module\n",
    "print(testModel)"
   ]
  },
  {
   "cell_type": "code",
   "execution_count": 6,
   "metadata": {
    "collapsed": false
   },
   "outputs": [],
   "source": [
    "targetModel = testModel:clone('weight')"
   ]
  },
  {
   "cell_type": "code",
   "execution_count": 9,
   "metadata": {
    "collapsed": false
   },
   "outputs": [],
   "source": [
    "input = torch.Tensor(1, 1, 256, 256)\n",
    "res1 = testModel:forward(input)\n",
    "res2 = targetModel:forward(input)"
   ]
  },
  {
   "cell_type": "code",
   "execution_count": 10,
   "metadata": {
    "collapsed": false
   },
   "outputs": [
    {
     "data": {
      "text/plain": [
       "   1\n",
       " 512\n",
       "  32\n",
       "  32\n",
       "[torch.LongStorage of size 4]\n",
       "\n",
       "   1\n",
       " 512\n",
       "  32\n",
       "  32\n",
       "[torch.LongStorage of size 4]\n",
       "\n"
      ]
     },
     "execution_count": 10,
     "metadata": {},
     "output_type": "execute_result"
    }
   ],
   "source": [
    "print(res1:size(), res2:size())"
   ]
  },
  {
   "cell_type": "code",
   "execution_count": 21,
   "metadata": {
    "collapsed": true
   },
   "outputs": [],
   "source": [
    "a = torch.Tensor(1,1,2,2):zero()\n",
    "b = torch.Tensor(1,1,2,2):fill(1) "
   ]
  },
  {
   "cell_type": "code",
   "execution_count": 23,
   "metadata": {
    "collapsed": false
   },
   "outputs": [
    {
     "data": {
      "text/plain": [
       "true\t\n"
      ]
     },
     "execution_count": 23,
     "metadata": {},
     "output_type": "execute_result"
    }
   ],
   "source": [
    "torch.all(torch.eq(res1, res2))"
   ]
  },
  {
   "cell_type": "code",
   "execution_count": null,
   "metadata": {
    "collapsed": true
   },
   "outputs": [],
   "source": []
  }
 ],
 "metadata": {
  "kernelspec": {
   "display_name": "iTorch",
   "language": "lua",
   "name": "itorch"
  },
  "language_info": {
   "name": "lua",
   "version": "5.1"
  }
 },
 "nbformat": 4,
 "nbformat_minor": 0
}
