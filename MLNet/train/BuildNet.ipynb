{
 "cells": [
  {
   "cell_type": "code",
   "execution_count": 2,
   "metadata": {
    "collapsed": true
   },
   "outputs": [],
   "source": [
    "require 'nn'\n",
    "require 'nngraph'\n",
    "require 'image'"
   ]
  },
  {
   "cell_type": "code",
   "execution_count": 125,
   "metadata": {
    "collapsed": false
   },
   "outputs": [],
   "source": [
    "-- Convolution = cudnn.SpatialConvolution\n",
    "Convolution = nn.SpatialConvolution\n",
    "\n",
    "-- Avg = cudnn.SpatialAveragePooling\n",
    "Avg = nn.SpatialAveragePooling\n",
    "\n",
    "-- ReLU = cudnn.ReLU\n",
    "ReLU = nn.ReLU\n",
    "\n",
    "Max = nn.SpatialMaxPooling\n",
    "\n",
    "SBatchNorm = nn.SpatialBatchNormalization\n",
    "\n",
    "\n",
    "function vgg()\n",
    "    model = nn.Sequential()\n",
    "    model:add(Convolution(  1,  64, 3,3, 2,2, 1,1))\n",
    "    model:add(ReLU(true))\n",
    "    model:add(Convolution( 64, 128, 3,3, 1,1, 1,1))\n",
    "    model:add(ReLU(true))\n",
    "    model:add(Convolution(128, 128, 3,3, 2,2, 1,1))\n",
    "    model:add(ReLU(true))\n",
    "    model:add(Convolution(128, 256, 3,3, 1,1, 1,1))\n",
    "    model:add(ReLU(true))\n",
    "    model:add(Convolution(256, 256, 3,3, 2,2, 1,1))\n",
    "    model:add(ReLU(true))\n",
    "    model:add(Convolution(256, 512, 3,3, 1,1, 1,1))\n",
    "    model:add(ReLU(true))\n",
    "    return model\n",
    "end\n",
    "\n",
    "function global_feature()\n",
    "    --[[\n",
    "        \n",
    "    ]]--\n",
    "    model = nn.Sequential()\n",
    "    model:add(Convolution(512, 512, 3,3, 2,2, 1,1))\n",
    "    model:add(ReLU(true))\n",
    "    model:add(Convolution(512, 512, 3,3, 1,1, 1,1))\n",
    "    model:add(ReLU(true))\n",
    "    model:add(Convolution(512, 512, 3,3, 2,2, 1,1))\n",
    "    model:add(ReLU(true))\n",
    "    model:add(Convolution(512, 512, 3,3, 1,1, 1,1))\n",
    "    model:add(ReLU(true))\n",
    "    model:add(nn.View(-1, 25088))\n",
    "    model:add(nn.Linear(25088, 1024))\n",
    "    model:add(ReLU(true))\n",
    "    model:add(nn.Linear(1024, 512))\n",
    "    model:add(ReLU(true))\n",
    "    return model\n",
    "end\n",
    "\n",
    "function classification(nLabels)\n",
    "    model = nn.Sequential()\n",
    "    model:add(nn.Linear(512, 512))\n",
    "    model:add(ReLU(true))\n",
    "    model:add(nn.Dropout(0.5))\n",
    "    \n",
    "    model:add(nn.Linear(512, nLabels))\n",
    "    model:add(nn.LogSoftMax())\n",
    "    return model\n",
    "end\n",
    "\n",
    "\n",
    "function mid_level_feature()\n",
    "    model = nn.Sequential()\n",
    "    model:add(Convolution(512, 512, 3, 3, 1, 1, 1, 1))\n",
    "    model:add(ReLU(true))\n",
    "    model:add(Convolution(512, 256, 3, 3, 1, 1, 1, 1))\n",
    "    model:add(ReLU(true))\n",
    "    return model\n",
    "end\n",
    "\n",
    "function img2feat(nfeatures)\n",
    "    model = nn.Sequential()\n",
    "    model:add(nn.Linear(512, 256))\n",
    "    model:add(ReLU(true))\n",
    "    model:add(nn.Replicate(nfeatures, 2, 1))\n",
    "    model:add(nn.Replicate(nfeatures, 2, 1))\n",
    "    return model\n",
    "end\n",
    "\n",
    "function upsample_and_color()\n",
    "    model = nn.Sequential()\n",
    "    \n",
    "    model:add(Convolution(512, 256, 3,3, 1,1, 1,1))\n",
    "    model:add(ReLU(true))\n",
    "    model:add(Convolution(256, 128, 3,3, 1,1, 1,1))\n",
    "    model:add(ReLU(true))\n",
    "    model:add(nn.SpatialUpSamplingNearest(2))\n",
    "    \n",
    "    model:add(Convolution(128, 64, 3,3, 1,1, 1,1))\n",
    "    model:add(ReLU(true))\n",
    "    model:add(Convolution( 64, 64, 3,3, 1,1, 1,1))\n",
    "    model:add(ReLU(true))\n",
    "    model:add(nn.SpatialUpSamplingNearest(2))\n",
    "    \n",
    "    model:add(Convolution( 64, 32, 3,3, 1,1, 1,1))\n",
    "    model:add(ReLU(true))\n",
    "    model:add(Convolution( 32,  2, 3,3, 1,1, 1,1))\n",
    "    model:add(nn.Sigmoid())\n",
    "    return model\n",
    "end\n",
    "\n"
   ]
  },
  {
   "cell_type": "code",
   "execution_count": 111,
   "metadata": {
    "collapsed": false
   },
   "outputs": [
    {
     "data": {
      "text/plain": [
       "   1\n",
       " 512\n",
       "[torch.LongStorage of size 2]\n",
       "\n"
      ]
     },
     "execution_count": 111,
     "metadata": {},
     "output_type": "execute_result"
    }
   ],
   "source": [
    "m1 = vgg()\n",
    "m2 = global_feature()\n",
    "\n",
    "nSamples = 1\n",
    "data = torch.rand(nSamples,1,224,224)\n",
    "temp = m1:forward(data)\n",
    "temp = m2:forward(temp)\n",
    "print(temp:size())\n",
    "res1 = temp"
   ]
  },
  {
   "cell_type": "code",
   "execution_count": 112,
   "metadata": {
    "collapsed": false
   },
   "outputs": [
    {
     "data": {
      "text/plain": [
       "   1\n",
       " 256\n",
       "  32\n",
       "  32\n",
       "[torch.LongStorage of size 4]\n",
       "\n"
      ]
     },
     "execution_count": 112,
     "metadata": {},
     "output_type": "execute_result"
    }
   ],
   "source": [
    "k1 = vgg()\n",
    "k2 = mid_level_feature()\n",
    "\n",
    "data = torch.rand(nSamples,1,256,256)\n",
    "temp = k1:forward(data)\n",
    "temp = k2:forward(temp)\n",
    "print(temp:size())\n",
    "res2 = temp"
   ]
  },
  {
   "cell_type": "code",
   "execution_count": 113,
   "metadata": {
    "collapsed": false
   },
   "outputs": [
    {
     "data": {
      "text/plain": [
       "   1\n",
       " 256\n",
       "  32\n",
       "  32\n",
       "[torch.LongStorage of size 4]\n",
       "\n"
      ]
     },
     "execution_count": 113,
     "metadata": {},
     "output_type": "execute_result"
    }
   ],
   "source": [
    "r = img2feat(32)\n",
    "res3 = r:forward(res1)\n",
    "print(res3:size())"
   ]
  },
  {
   "cell_type": "code",
   "execution_count": 114,
   "metadata": {
    "collapsed": false
   },
   "outputs": [
    {
     "data": {
      "text/plain": [
       "   1\n",
       " 512\n",
       "  32\n",
       "  32\n",
       "[torch.LongStorage of size 4]\n",
       "\n"
      ]
     },
     "execution_count": 114,
     "metadata": {},
     "output_type": "execute_result"
    }
   ],
   "source": [
    "res4 = nn.JoinTable(2):forward{res2, res3}\n",
    "print(res4:size())"
   ]
  },
  {
   "cell_type": "code",
   "execution_count": 115,
   "metadata": {
    "collapsed": false
   },
   "outputs": [],
   "source": [
    "cnet = upsample_and_color()\n",
    "res5 = cnet:forward(res4)\n"
   ]
  },
  {
   "cell_type": "code",
   "execution_count": 116,
   "metadata": {
    "collapsed": false,
    "scrolled": true
   },
   "outputs": [
    {
     "data": {
      "text/plain": [
       "   1\n",
       "   2\n",
       " 128\n",
       " 128\n",
       "[torch.LongStorage of size 4]\n",
       "\n"
      ]
     },
     "execution_count": 116,
     "metadata": {},
     "output_type": "execute_result"
    }
   ],
   "source": [
    "print(res5:size())"
   ]
  },
  {
   "cell_type": "code",
   "execution_count": 126,
   "metadata": {
    "collapsed": false
   },
   "outputs": [
    {
     "data": {
      "text/plain": [
       "-2.3077 -2.3106 -2.3009 -2.2907 -2.3012 -2.3012 -2.2927 -2.3289 -2.3125 -2.2802\n",
       "[torch.DoubleTensor of size 1x10]\n",
       "\n"
      ]
     },
     "execution_count": 126,
     "metadata": {},
     "output_type": "execute_result"
    }
   ],
   "source": [
    "local model = classification(10)\n",
    "local predict_label = model:forward(res1)\n",
    "print(predict_label)"
   ]
  },
  {
   "cell_type": "code",
   "execution_count": null,
   "metadata": {
    "collapsed": false
   },
   "outputs": [],
   "source": []
  },
  {
   "cell_type": "code",
   "execution_count": null,
   "metadata": {
    "collapsed": false
   },
   "outputs": [],
   "source": []
  },
  {
   "cell_type": "code",
   "execution_count": null,
   "metadata": {
    "collapsed": false
   },
   "outputs": [],
   "source": []
  },
  {
   "cell_type": "code",
   "execution_count": null,
   "metadata": {
    "collapsed": false
   },
   "outputs": [],
   "source": []
  },
  {
   "cell_type": "code",
   "execution_count": null,
   "metadata": {
    "collapsed": false
   },
   "outputs": [],
   "source": []
  },
  {
   "cell_type": "code",
   "execution_count": 129,
   "metadata": {
    "collapsed": false
   },
   "outputs": [],
   "source": [
    "function build_net(h, w)\n",
    "    -- two inputs\n",
    "    local origin_img = torch.rand(nSamples,1,256,256)\n",
    "    local scaled_img = torch.rand(nSamples,1,224,224)\n",
    "\n",
    "    -- local feature / original image\n",
    "    local low_feat1 = vgg()()\n",
    "    local mid_feat = mid_level_feature()(low_feat1)\n",
    "\n",
    "    -- global feature / scaled image\n",
    "    local low_feat2 = vgg()()\n",
    "    local global_feat = global_feature()(low_feat2)\n",
    "    \n",
    "    local fusion_layer = img2feat()(global_feat)\n",
    "    \n",
    "    -- classification\n",
    "    local predict_label = classification(10)(global_feat)\n",
    "    \n",
    "    \n",
    "    local mixed_res = nn.JoinTable(2)({mid_feat, fusion_layer})\n",
    "\n",
    "    local predict_YUV = upsample_and_color()(mixed_res)\n",
    "\n",
    "    local img = torch.rand(nSamples,1,224,224)\n",
    "    return nn.gModule({low_feat1, low_feat2}, {predict_YUV, predict_label})\n",
    "end"
   ]
  },
  {
   "cell_type": "code",
   "execution_count": 130,
   "metadata": {
    "collapsed": false
   },
   "outputs": [
    {
     "data": {
      "text/html": [
       "<script type=\"text/javascript\">\n",
       "  $(function() {\n",
       "    $(\"#0f278294-cfeb-43b0-c373-239496333da8\").html('<?xml version=\"1.0\" encoding=\"UTF-8\" standalone=\"no\"?>\\n<!DOCTYPE svg PUBLIC \"-//W3C//DTD SVG 1.1//EN\"\\n \"http://www.w3.org/Graphics/SVG/1.1/DTD/svg11.dtd\">\\n<!-- Generated by graphviz version 2.36.0 (20140111.2315)\\n -->\\n<!-- Title: G Pages: 1 -->\\n<svg width=\"1740pt\" height=\"2246pt\"\\n viewBox=\"0.00 0.00 1740.00 2246.00\" xmlns=\"http://www.w3.org/2000/svg\" xmlns:xlink=\"http://www.w3.org/1999/xlink\">\\n<g id=\"graph0\" class=\"graph\" transform=\"scale(1 1) rotate(0) translate(4 2242)\">\\n<title>G</title>\\n<polygon fill=\"white\" stroke=\"none\" points=\"-4,4 -4,-2242 1736,-2242 1736,4 -4,4\"/>\\n<!-- n1 -->\\n<g id=\"node1\" class=\"node\"><title>n1</title>\\n<g id=\"a_node1\"><a xlink:title=\"[[string &quot;function build_net(h, w)...&quot;]]:22_\">\\n<ellipse fill=\"none\" stroke=\"black\" cx=\"948\" cy=\"-339\" rx=\"475.324\" ry=\"207.365\"/>\\n<text text-anchor=\"middle\" x=\"948\" y=\"-470.3\" font-family=\"Times,serif\" font-size=\"14.00\">Node1</text>\\n<text text-anchor=\"start\" x=\"619.5\" y=\"-455.3\" font-family=\"Times,serif\" font-size=\"14.00\">module = nn.Sequential {</text>\\n<text text-anchor=\"start\" x=\"619.5\" y=\"-440.3\" font-family=\"Times,serif\" font-size=\"14.00\"> &#160;[input &#45;&gt; (1) &#45;&gt; (2) &#45;&gt; (3) &#45;&gt; (4) &#45;&gt; (5) &#45;&gt; (6) &#45;&gt; (7) &#45;&gt; (8) &#45;&gt; (9) &#45;&gt; (10) &#45;&gt; (11) &#45;&gt; (12) &#45;&gt; (13) &#45;&gt; (14) &#45;&gt; output]</text>\\n<text text-anchor=\"start\" x=\"619.5\" y=\"-425.3\" font-family=\"Times,serif\" font-size=\"14.00\"> &#160;(1): nn.SpatialConvolution(512 &#45;&gt; 256, 3x3, 1,1, 1,1)</text>\\n<text text-anchor=\"start\" x=\"619.5\" y=\"-410.3\" font-family=\"Times,serif\" font-size=\"14.00\"> &#160;(2): nn.ReLU</text>\\n<text text-anchor=\"start\" x=\"619.5\" y=\"-395.3\" font-family=\"Times,serif\" font-size=\"14.00\"> &#160;(3): nn.SpatialConvolution(256 &#45;&gt; 128, 3x3, 1,1, 1,1)</text>\\n<text text-anchor=\"start\" x=\"619.5\" y=\"-380.3\" font-family=\"Times,serif\" font-size=\"14.00\"> &#160;(4): nn.ReLU</text>\\n<text text-anchor=\"start\" x=\"619.5\" y=\"-365.3\" font-family=\"Times,serif\" font-size=\"14.00\"> &#160;(5): nn.SpatialUpSamplingNearest</text>\\n<text text-anchor=\"start\" x=\"619.5\" y=\"-350.3\" font-family=\"Times,serif\" font-size=\"14.00\"> &#160;(6): nn.SpatialConvolution(128 &#45;&gt; 64, 3x3, 1,1, 1,1)</text>\\n<text text-anchor=\"start\" x=\"619.5\" y=\"-335.3\" font-family=\"Times,serif\" font-size=\"14.00\"> &#160;(7): nn.ReLU</text>\\n<text text-anchor=\"start\" x=\"619.5\" y=\"-320.3\" font-family=\"Times,serif\" font-size=\"14.00\"> &#160;(8): nn.SpatialConvolution(64 &#45;&gt; 64, 3x3, 1,1, 1,1)</text>\\n<text text-anchor=\"start\" x=\"619.5\" y=\"-305.3\" font-family=\"Times,serif\" font-size=\"14.00\"> &#160;(9): nn.ReLU</text>\\n<text text-anchor=\"start\" x=\"619.5\" y=\"-290.3\" font-family=\"Times,serif\" font-size=\"14.00\"> &#160;(10): nn.SpatialUpSamplingNearest</text>\\n<text text-anchor=\"start\" x=\"619.5\" y=\"-275.3\" font-family=\"Times,serif\" font-size=\"14.00\"> &#160;(11): nn.SpatialConvolution(64 &#45;&gt; 32, 3x3, 1,1, 1,1)</text>\\n<text text-anchor=\"start\" x=\"619.5\" y=\"-260.3\" font-family=\"Times,serif\" font-size=\"14.00\"> &#160;(12): nn.ReLU</text>\\n<text text-anchor=\"start\" x=\"619.5\" y=\"-245.3\" font-family=\"Times,serif\" font-size=\"14.00\"> &#160;(13): nn.SpatialConvolution(32 &#45;&gt; 2, 3x3, 1,1, 1,1)</text>\\n<text text-anchor=\"start\" x=\"619.5\" y=\"-230.3\" font-family=\"Times,serif\" font-size=\"14.00\"> &#160;(14): nn.Sigmoid</text>\\n<text text-anchor=\"start\" x=\"619.5\" y=\"-215.3\" font-family=\"Times,serif\" font-size=\"14.00\">}</text>\\n<text text-anchor=\"middle\" x=\"948\" y=\"-200.3\" font-family=\"Times,serif\" font-size=\"14.00\">reverseMap = {}</text>\\n</a>\\n</g>\\n</g>\\n<!-- n2 -->\\n<g id=\"node2\" class=\"node\"><title>n2</title>\\n<g id=\"a_node2\"><a xlink:title=\"[[C]]:&#45;1_\">\\n<ellipse fill=\"none\" stroke=\"black\" cx=\"696\" cy=\"-48\" rx=\"130.223\" ry=\"48.1667\"/>\\n<text text-anchor=\"middle\" x=\"696\" y=\"-66.8\" font-family=\"Times,serif\" font-size=\"14.00\">Node2</text>\\n<text text-anchor=\"start\" x=\"611.5\" y=\"-51.8\" font-family=\"Times,serif\" font-size=\"14.00\">input = {}</text>\\n<text text-anchor=\"start\" x=\"611.5\" y=\"-36.8\" font-family=\"Times,serif\" font-size=\"14.00\">mapindex = {Node1,Node3}</text>\\n<text text-anchor=\"middle\" x=\"696\" y=\"-21.8\" font-family=\"Times,serif\" font-size=\"14.00\">reverseMap = {}</text>\\n</a>\\n</g>\\n</g>\\n<!-- n1&#45;&gt;n2 -->\\n<g id=\"edge1\" class=\"edge\"><title>n1&#45;&gt;n2</title>\\n<path fill=\"none\" stroke=\"black\" d=\"M779.562,-144.831C766.151,-129.451 753.466,-114.903 742.221,-102.007\"/>\\n<polygon fill=\"black\" stroke=\"black\" points=\"744.622,-99.4353 735.412,-94.1984 739.346,-104.036 744.622,-99.4353\"/>\\n</g>\\n<!-- n3 -->\\n<g id=\"node3\" class=\"node\"><title>n3</title>\\n<g id=\"a_node3\"><a xlink:title=\"[[string &quot;function build_net(h, w)...&quot;]]:17_\">\\n<ellipse fill=\"none\" stroke=\"black\" cx=\"444\" cy=\"-694\" rx=\"215.501\" ry=\"111.946\"/>\\n<text text-anchor=\"middle\" x=\"444\" y=\"-757.8\" font-family=\"Times,serif\" font-size=\"14.00\">Node3</text>\\n<text text-anchor=\"start\" x=\"299.5\" y=\"-742.8\" font-family=\"Times,serif\" font-size=\"14.00\">module = nn.Sequential {</text>\\n<text text-anchor=\"start\" x=\"299.5\" y=\"-727.8\" font-family=\"Times,serif\" font-size=\"14.00\"> &#160;[input &#45;&gt; (1) &#45;&gt; (2) &#45;&gt; (3) &#45;&gt; (4) &#45;&gt; (5) &#45;&gt; output]</text>\\n<text text-anchor=\"start\" x=\"299.5\" y=\"-712.8\" font-family=\"Times,serif\" font-size=\"14.00\"> &#160;(1): nn.Linear(512 &#45;&gt; 512)</text>\\n<text text-anchor=\"start\" x=\"299.5\" y=\"-697.8\" font-family=\"Times,serif\" font-size=\"14.00\"> &#160;(2): nn.ReLU</text>\\n<text text-anchor=\"start\" x=\"299.5\" y=\"-682.8\" font-family=\"Times,serif\" font-size=\"14.00\"> &#160;(3): nn.Dropout(0.500000)</text>\\n<text text-anchor=\"start\" x=\"299.5\" y=\"-667.8\" font-family=\"Times,serif\" font-size=\"14.00\"> &#160;(4): nn.Linear(512 &#45;&gt; 10)</text>\\n<text text-anchor=\"start\" x=\"299.5\" y=\"-652.8\" font-family=\"Times,serif\" font-size=\"14.00\"> &#160;(5): nn.LogSoftMax</text>\\n<text text-anchor=\"start\" x=\"299.5\" y=\"-637.8\" font-family=\"Times,serif\" font-size=\"14.00\">}</text>\\n<text text-anchor=\"middle\" x=\"444\" y=\"-622.8\" font-family=\"Times,serif\" font-size=\"14.00\">reverseMap = {}</text>\\n</a>\\n</g>\\n</g>\\n<!-- n3&#45;&gt;n2 -->\\n<g id=\"edge2\" class=\"edge\"><title>n3&#45;&gt;n2</title>\\n<path fill=\"none\" stroke=\"black\" d=\"M414.232,-583.269C388.011,-460.899 367.247,-262.991 463,-132 486.945,-99.2426 524.958,-79.3592 563.391,-67.309\"/>\\n<polygon fill=\"black\" stroke=\"black\" points=\"564.571,-70.6099 573.163,-64.4111 562.581,-63.8988 564.571,-70.6099\"/>\\n</g>\\n<!-- n4 -->\\n<g id=\"node4\" class=\"node\"><title>n4</title>\\n<g id=\"a_node4\"><a xlink:title=\"[[string &quot;function build_net(h, w)...&quot;]]:20_\">\\n<ellipse fill=\"none\" stroke=\"black\" cx=\"948\" cy=\"-694\" rx=\"130.223\" ry=\"48.1667\"/>\\n<text text-anchor=\"middle\" x=\"948\" y=\"-712.8\" font-family=\"Times,serif\" font-size=\"14.00\">Node4</text>\\n<text text-anchor=\"start\" x=\"863.5\" y=\"-697.8\" font-family=\"Times,serif\" font-size=\"14.00\">module = nn.JoinTable</text>\\n<text text-anchor=\"start\" x=\"863.5\" y=\"-682.8\" font-family=\"Times,serif\" font-size=\"14.00\">reverseMap = {}</text>\\n<text text-anchor=\"middle\" x=\"948\" y=\"-667.8\" font-family=\"Times,serif\" font-size=\"14.00\">mapindex = {Node6,Node7}</text>\\n</a>\\n</g>\\n</g>\\n<!-- n4&#45;&gt;n1 -->\\n<g id=\"edge3\" class=\"edge\"><title>n4&#45;&gt;n1</title>\\n<path fill=\"none\" stroke=\"black\" d=\"M948,-645.759C948,-621.583 948,-590.244 948,-556.87\"/>\\n<polygon fill=\"black\" stroke=\"black\" points=\"951.5,-556.453 948,-546.453 944.5,-556.453 951.5,-556.453\"/>\\n</g>\\n<!-- n5 -->\\n<g id=\"node5\" class=\"node\"><title>n5</title>\\n<g id=\"a_node5\"><a xlink:title=\"[[string &quot;function build_net(h, w)...&quot;]]:12_\">\\n<ellipse fill=\"none\" stroke=\"black\" cx=\"444\" cy=\"-1277\" rx=\"444.156\" ry=\"196.651\"/>\\n<text text-anchor=\"middle\" x=\"444\" y=\"-1400.8\" font-family=\"Times,serif\" font-size=\"14.00\">Node5</text>\\n<text text-anchor=\"start\" x=\"137.5\" y=\"-1385.8\" font-family=\"Times,serif\" font-size=\"14.00\">module = nn.Sequential {</text>\\n<text text-anchor=\"start\" x=\"137.5\" y=\"-1370.8\" font-family=\"Times,serif\" font-size=\"14.00\"> &#160;[input &#45;&gt; (1) &#45;&gt; (2) &#45;&gt; (3) &#45;&gt; (4) &#45;&gt; (5) &#45;&gt; (6) &#45;&gt; (7) &#45;&gt; (8) &#45;&gt; (9) &#45;&gt; (10) &#45;&gt; (11) &#45;&gt; (12) &#45;&gt; (13) &#45;&gt; output]</text>\\n<text text-anchor=\"start\" x=\"137.5\" y=\"-1355.8\" font-family=\"Times,serif\" font-size=\"14.00\"> &#160;(1): nn.SpatialConvolution(512 &#45;&gt; 512, 3x3, 2,2, 1,1)</text>\\n<text text-anchor=\"start\" x=\"137.5\" y=\"-1340.8\" font-family=\"Times,serif\" font-size=\"14.00\"> &#160;(2): nn.ReLU</text>\\n<text text-anchor=\"start\" x=\"137.5\" y=\"-1325.8\" font-family=\"Times,serif\" font-size=\"14.00\"> &#160;(3): nn.SpatialConvolution(512 &#45;&gt; 512, 3x3, 1,1, 1,1)</text>\\n<text text-anchor=\"start\" x=\"137.5\" y=\"-1310.8\" font-family=\"Times,serif\" font-size=\"14.00\"> &#160;(4): nn.ReLU</text>\\n<text text-anchor=\"start\" x=\"137.5\" y=\"-1295.8\" font-family=\"Times,serif\" font-size=\"14.00\"> &#160;(5): nn.SpatialConvolution(512 &#45;&gt; 512, 3x3, 2,2, 1,1)</text>\\n<text text-anchor=\"start\" x=\"137.5\" y=\"-1280.8\" font-family=\"Times,serif\" font-size=\"14.00\"> &#160;(6): nn.ReLU</text>\\n<text text-anchor=\"start\" x=\"137.5\" y=\"-1265.8\" font-family=\"Times,serif\" font-size=\"14.00\"> &#160;(7): nn.SpatialConvolution(512 &#45;&gt; 512, 3x3, 1,1, 1,1)</text>\\n<text text-anchor=\"start\" x=\"137.5\" y=\"-1250.8\" font-family=\"Times,serif\" font-size=\"14.00\"> &#160;(8): nn.ReLU</text>\\n<text text-anchor=\"start\" x=\"137.5\" y=\"-1235.8\" font-family=\"Times,serif\" font-size=\"14.00\"> &#160;(9): nn.View(&#45;1, 25088)</text>\\n<text text-anchor=\"start\" x=\"137.5\" y=\"-1220.8\" font-family=\"Times,serif\" font-size=\"14.00\"> &#160;(10): nn.Linear(25088 &#45;&gt; 1024)</text>\\n<text text-anchor=\"start\" x=\"137.5\" y=\"-1205.8\" font-family=\"Times,serif\" font-size=\"14.00\"> &#160;(11): nn.ReLU</text>\\n<text text-anchor=\"start\" x=\"137.5\" y=\"-1190.8\" font-family=\"Times,serif\" font-size=\"14.00\"> &#160;(12): nn.Linear(1024 &#45;&gt; 512)</text>\\n<text text-anchor=\"start\" x=\"137.5\" y=\"-1175.8\" font-family=\"Times,serif\" font-size=\"14.00\"> &#160;(13): nn.ReLU</text>\\n<text text-anchor=\"start\" x=\"137.5\" y=\"-1160.8\" font-family=\"Times,serif\" font-size=\"14.00\">}</text>\\n<text text-anchor=\"middle\" x=\"444\" y=\"-1145.8\" font-family=\"Times,serif\" font-size=\"14.00\">reverseMap = {}</text>\\n</a>\\n</g>\\n</g>\\n<!-- n5&#45;&gt;n3 -->\\n<g id=\"edge4\" class=\"edge\"><title>n5&#45;&gt;n3</title>\\n<path fill=\"none\" stroke=\"black\" d=\"M444,-1080.11C444,-992.62 444,-892.278 444,-815.955\"/>\\n<polygon fill=\"black\" stroke=\"black\" points=\"447.5,-815.824 444,-805.824 440.5,-815.824 447.5,-815.824\"/>\\n</g>\\n<!-- n7 -->\\n<g id=\"node7\" class=\"node\"><title>n7</title>\\n<g id=\"a_node7\"><a xlink:title=\"[[string &quot;function build_net(h, w)...&quot;]]:14_\">\\n<ellipse fill=\"none\" stroke=\"black\" cx=\"768\" cy=\"-943\" rx=\"189.257\" ry=\"101.233\"/>\\n<text text-anchor=\"middle\" x=\"768\" y=\"-999.3\" font-family=\"Times,serif\" font-size=\"14.00\">Node7</text>\\n<text text-anchor=\"start\" x=\"642\" y=\"-984.3\" font-family=\"Times,serif\" font-size=\"14.00\">module = nn.Sequential {</text>\\n<text text-anchor=\"start\" x=\"642\" y=\"-969.3\" font-family=\"Times,serif\" font-size=\"14.00\"> &#160;[input &#45;&gt; (1) &#45;&gt; (2) &#45;&gt; (3) &#45;&gt; (4) &#45;&gt; output]</text>\\n<text text-anchor=\"start\" x=\"642\" y=\"-954.3\" font-family=\"Times,serif\" font-size=\"14.00\"> &#160;(1): nn.Linear(512 &#45;&gt; 256)</text>\\n<text text-anchor=\"start\" x=\"642\" y=\"-939.3\" font-family=\"Times,serif\" font-size=\"14.00\"> &#160;(2): nn.ReLU</text>\\n<text text-anchor=\"start\" x=\"642\" y=\"-924.3\" font-family=\"Times,serif\" font-size=\"14.00\"> &#160;(3): nn.Replicate</text>\\n<text text-anchor=\"start\" x=\"642\" y=\"-909.3\" font-family=\"Times,serif\" font-size=\"14.00\"> &#160;(4): nn.Replicate</text>\\n<text text-anchor=\"start\" x=\"642\" y=\"-894.3\" font-family=\"Times,serif\" font-size=\"14.00\">}</text>\\n<text text-anchor=\"middle\" x=\"768\" y=\"-879.3\" font-family=\"Times,serif\" font-size=\"14.00\">reverseMap = {}</text>\\n</a>\\n</g>\\n</g>\\n<!-- n5&#45;&gt;n7 -->\\n<g id=\"edge9\" class=\"edge\"><title>n5&#45;&gt;n7</title>\\n<path fill=\"none\" stroke=\"black\" d=\"M619.749,-1095.91C638.363,-1076.84 656.733,-1058.01 673.867,-1040.46\"/>\\n<polygon fill=\"black\" stroke=\"black\" points=\"676.652,-1042.61 681.132,-1033.01 671.642,-1037.73 676.652,-1042.61\"/>\\n</g>\\n<!-- n6 -->\\n<g id=\"node6\" class=\"node\"><title>n6</title>\\n<g id=\"a_node6\"><a xlink:title=\"[[string &quot;function build_net(h, w)...&quot;]]:8_\">\\n<ellipse fill=\"none\" stroke=\"black\" cx=\"1266\" cy=\"-943\" rx=\"237.382\" ry=\"101.233\"/>\\n<text text-anchor=\"middle\" x=\"1266\" y=\"-999.3\" font-family=\"Times,serif\" font-size=\"14.00\">Node6</text>\\n<text text-anchor=\"start\" x=\"1106\" y=\"-984.3\" font-family=\"Times,serif\" font-size=\"14.00\">module = nn.Sequential {</text>\\n<text text-anchor=\"start\" x=\"1106\" y=\"-969.3\" font-family=\"Times,serif\" font-size=\"14.00\"> &#160;[input &#45;&gt; (1) &#45;&gt; (2) &#45;&gt; (3) &#45;&gt; (4) &#45;&gt; output]</text>\\n<text text-anchor=\"start\" x=\"1106\" y=\"-954.3\" font-family=\"Times,serif\" font-size=\"14.00\"> &#160;(1): nn.SpatialConvolution(512 &#45;&gt; 512, 3x3, 1,1, 1,1)</text>\\n<text text-anchor=\"start\" x=\"1106\" y=\"-939.3\" font-family=\"Times,serif\" font-size=\"14.00\"> &#160;(2): nn.ReLU</text>\\n<text text-anchor=\"start\" x=\"1106\" y=\"-924.3\" font-family=\"Times,serif\" font-size=\"14.00\"> &#160;(3): nn.SpatialConvolution(512 &#45;&gt; 256, 3x3, 1,1, 1,1)</text>\\n<text text-anchor=\"start\" x=\"1106\" y=\"-909.3\" font-family=\"Times,serif\" font-size=\"14.00\"> &#160;(4): nn.ReLU</text>\\n<text text-anchor=\"start\" x=\"1106\" y=\"-894.3\" font-family=\"Times,serif\" font-size=\"14.00\">}</text>\\n<text text-anchor=\"middle\" x=\"1266\" y=\"-879.3\" font-family=\"Times,serif\" font-size=\"14.00\">reverseMap = {}</text>\\n</a>\\n</g>\\n</g>\\n<!-- n6&#45;&gt;n4 -->\\n<g id=\"edge5\" class=\"edge\"><title>n6&#45;&gt;n4</title>\\n<path fill=\"none\" stroke=\"black\" d=\"M1152.54,-853.873C1104.98,-816.933 1051.49,-775.382 1011.14,-744.039\"/>\\n<polygon fill=\"black\" stroke=\"black\" points=\"1013.03,-741.082 1002.99,-737.712 1008.74,-746.61 1013.03,-741.082\"/>\\n</g>\\n<!-- n7&#45;&gt;n4 -->\\n<g id=\"edge6\" class=\"edge\"><title>n7&#45;&gt;n4</title>\\n<path fill=\"none\" stroke=\"black\" d=\"M836.05,-848.62C860.515,-815.048 887.285,-778.314 908.511,-749.187\"/>\\n<polygon fill=\"black\" stroke=\"black\" points=\"911.567,-750.937 914.628,-740.794 905.91,-746.815 911.567,-750.937\"/>\\n</g>\\n<!-- n8 -->\\n<g id=\"node8\" class=\"node\"><title>n8</title>\\n<g id=\"a_node8\"><a xlink:title=\"[[string &quot;function build_net(h, w)...&quot;]]:11_\">\\n<ellipse fill=\"none\" stroke=\"black\" cx=\"535\" cy=\"-1696\" rx=\"412.426\" ry=\"185.938\"/>\\n<text text-anchor=\"middle\" x=\"535\" y=\"-1812.3\" font-family=\"Times,serif\" font-size=\"14.00\">Node8</text>\\n<text text-anchor=\"start\" x=\"251\" y=\"-1797.3\" font-family=\"Times,serif\" font-size=\"14.00\">module = nn.Sequential {</text>\\n<text text-anchor=\"start\" x=\"251\" y=\"-1782.3\" font-family=\"Times,serif\" font-size=\"14.00\"> &#160;[input &#45;&gt; (1) &#45;&gt; (2) &#45;&gt; (3) &#45;&gt; (4) &#45;&gt; (5) &#45;&gt; (6) &#45;&gt; (7) &#45;&gt; (8) &#45;&gt; (9) &#45;&gt; (10) &#45;&gt; (11) &#45;&gt; (12) &#45;&gt; output]</text>\\n<text text-anchor=\"start\" x=\"251\" y=\"-1767.3\" font-family=\"Times,serif\" font-size=\"14.00\"> &#160;(1): nn.SpatialConvolution(1 &#45;&gt; 64, 3x3, 2,2, 1,1)</text>\\n<text text-anchor=\"start\" x=\"251\" y=\"-1752.3\" font-family=\"Times,serif\" font-size=\"14.00\"> &#160;(2): nn.ReLU</text>\\n<text text-anchor=\"start\" x=\"251\" y=\"-1737.3\" font-family=\"Times,serif\" font-size=\"14.00\"> &#160;(3): nn.SpatialConvolution(64 &#45;&gt; 128, 3x3, 1,1, 1,1)</text>\\n<text text-anchor=\"start\" x=\"251\" y=\"-1722.3\" font-family=\"Times,serif\" font-size=\"14.00\"> &#160;(4): nn.ReLU</text>\\n<text text-anchor=\"start\" x=\"251\" y=\"-1707.3\" font-family=\"Times,serif\" font-size=\"14.00\"> &#160;(5): nn.SpatialConvolution(128 &#45;&gt; 128, 3x3, 2,2, 1,1)</text>\\n<text text-anchor=\"start\" x=\"251\" y=\"-1692.3\" font-family=\"Times,serif\" font-size=\"14.00\"> &#160;(6): nn.ReLU</text>\\n<text text-anchor=\"start\" x=\"251\" y=\"-1677.3\" font-family=\"Times,serif\" font-size=\"14.00\"> &#160;(7): nn.SpatialConvolution(128 &#45;&gt; 256, 3x3, 1,1, 1,1)</text>\\n<text text-anchor=\"start\" x=\"251\" y=\"-1662.3\" font-family=\"Times,serif\" font-size=\"14.00\"> &#160;(8): nn.ReLU</text>\\n<text text-anchor=\"start\" x=\"251\" y=\"-1647.3\" font-family=\"Times,serif\" font-size=\"14.00\"> &#160;(9): nn.SpatialConvolution(256 &#45;&gt; 256, 3x3, 2,2, 1,1)</text>\\n<text text-anchor=\"start\" x=\"251\" y=\"-1632.3\" font-family=\"Times,serif\" font-size=\"14.00\"> &#160;(10): nn.ReLU</text>\\n<text text-anchor=\"start\" x=\"251\" y=\"-1617.3\" font-family=\"Times,serif\" font-size=\"14.00\"> &#160;(11): nn.SpatialConvolution(256 &#45;&gt; 512, 3x3, 1,1, 1,1)</text>\\n<text text-anchor=\"start\" x=\"251\" y=\"-1602.3\" font-family=\"Times,serif\" font-size=\"14.00\"> &#160;(12): nn.ReLU</text>\\n<text text-anchor=\"start\" x=\"251\" y=\"-1587.3\" font-family=\"Times,serif\" font-size=\"14.00\">}</text>\\n<text text-anchor=\"middle\" x=\"535\" y=\"-1572.3\" font-family=\"Times,serif\" font-size=\"14.00\">reverseMap = {}</text>\\n</a>\\n</g>\\n</g>\\n<!-- n8&#45;&gt;n5 -->\\n<g id=\"edge7\" class=\"edge\"><title>n8&#45;&gt;n5</title>\\n<path fill=\"none\" stroke=\"black\" d=\"M494.821,-1510.88C492.772,-1501.49 490.707,-1492.03 488.646,-1482.58\"/>\\n<polygon fill=\"black\" stroke=\"black\" points=\"492.05,-1481.77 486.499,-1472.75 485.211,-1483.26 492.05,-1481.77\"/>\\n</g>\\n<!-- n9 -->\\n<g id=\"node9\" class=\"node\"><title>n9</title>\\n<g id=\"a_node9\"><a xlink:title=\"[[string &quot;function build_net(h, w)...&quot;]]:7_\">\\n<ellipse fill=\"none\" stroke=\"black\" cx=\"1320\" cy=\"-1277\" rx=\"412.426\" ry=\"185.938\"/>\\n<text text-anchor=\"middle\" x=\"1320\" y=\"-1393.3\" font-family=\"Times,serif\" font-size=\"14.00\">Node9</text>\\n<text text-anchor=\"start\" x=\"1036\" y=\"-1378.3\" font-family=\"Times,serif\" font-size=\"14.00\">module = nn.Sequential {</text>\\n<text text-anchor=\"start\" x=\"1036\" y=\"-1363.3\" font-family=\"Times,serif\" font-size=\"14.00\"> &#160;[input &#45;&gt; (1) &#45;&gt; (2) &#45;&gt; (3) &#45;&gt; (4) &#45;&gt; (5) &#45;&gt; (6) &#45;&gt; (7) &#45;&gt; (8) &#45;&gt; (9) &#45;&gt; (10) &#45;&gt; (11) &#45;&gt; (12) &#45;&gt; output]</text>\\n<text text-anchor=\"start\" x=\"1036\" y=\"-1348.3\" font-family=\"Times,serif\" font-size=\"14.00\"> &#160;(1): nn.SpatialConvolution(1 &#45;&gt; 64, 3x3, 2,2, 1,1)</text>\\n<text text-anchor=\"start\" x=\"1036\" y=\"-1333.3\" font-family=\"Times,serif\" font-size=\"14.00\"> &#160;(2): nn.ReLU</text>\\n<text text-anchor=\"start\" x=\"1036\" y=\"-1318.3\" font-family=\"Times,serif\" font-size=\"14.00\"> &#160;(3): nn.SpatialConvolution(64 &#45;&gt; 128, 3x3, 1,1, 1,1)</text>\\n<text text-anchor=\"start\" x=\"1036\" y=\"-1303.3\" font-family=\"Times,serif\" font-size=\"14.00\"> &#160;(4): nn.ReLU</text>\\n<text text-anchor=\"start\" x=\"1036\" y=\"-1288.3\" font-family=\"Times,serif\" font-size=\"14.00\"> &#160;(5): nn.SpatialConvolution(128 &#45;&gt; 128, 3x3, 2,2, 1,1)</text>\\n<text text-anchor=\"start\" x=\"1036\" y=\"-1273.3\" font-family=\"Times,serif\" font-size=\"14.00\"> &#160;(6): nn.ReLU</text>\\n<text text-anchor=\"start\" x=\"1036\" y=\"-1258.3\" font-family=\"Times,serif\" font-size=\"14.00\"> &#160;(7): nn.SpatialConvolution(128 &#45;&gt; 256, 3x3, 1,1, 1,1)</text>\\n<text text-anchor=\"start\" x=\"1036\" y=\"-1243.3\" font-family=\"Times,serif\" font-size=\"14.00\"> &#160;(8): nn.ReLU</text>\\n<text text-anchor=\"start\" x=\"1036\" y=\"-1228.3\" font-family=\"Times,serif\" font-size=\"14.00\"> &#160;(9): nn.SpatialConvolution(256 &#45;&gt; 256, 3x3, 2,2, 1,1)</text>\\n<text text-anchor=\"start\" x=\"1036\" y=\"-1213.3\" font-family=\"Times,serif\" font-size=\"14.00\"> &#160;(10): nn.ReLU</text>\\n<text text-anchor=\"start\" x=\"1036\" y=\"-1198.3\" font-family=\"Times,serif\" font-size=\"14.00\"> &#160;(11): nn.SpatialConvolution(256 &#45;&gt; 512, 3x3, 1,1, 1,1)</text>\\n<text text-anchor=\"start\" x=\"1036\" y=\"-1183.3\" font-family=\"Times,serif\" font-size=\"14.00\"> &#160;(12): nn.ReLU</text>\\n<text text-anchor=\"start\" x=\"1036\" y=\"-1168.3\" font-family=\"Times,serif\" font-size=\"14.00\">}</text>\\n<text text-anchor=\"middle\" x=\"1320\" y=\"-1153.3\" font-family=\"Times,serif\" font-size=\"14.00\">reverseMap = {}</text>\\n</a>\\n</g>\\n</g>\\n<!-- n9&#45;&gt;n6 -->\\n<g id=\"edge8\" class=\"edge\"><title>n9&#45;&gt;n6</title>\\n<path fill=\"none\" stroke=\"black\" d=\"M1289.92,-1091.07C1287.88,-1078.51 1285.86,-1066.09 1283.91,-1054.11\"/>\\n<polygon fill=\"black\" stroke=\"black\" points=\"1287.35,-1053.47 1282.29,-1044.16 1280.44,-1054.6 1287.35,-1053.47\"/>\\n</g>\\n<!-- n10 -->\\n<g id=\"node10\" class=\"node\"><title>n10</title>\\n<g id=\"a_node10\"><a xlink:title=\"[[C]]:&#45;1_&#45;2\">\\n<ellipse fill=\"none\" stroke=\"black\" cx=\"636\" cy=\"-1966\" rx=\"79.2942\" ry=\"48.1667\"/>\\n<text text-anchor=\"middle\" x=\"636\" y=\"-1984.8\" font-family=\"Times,serif\" font-size=\"14.00\">Node10</text>\\n<text text-anchor=\"start\" x=\"588\" y=\"-1969.8\" font-family=\"Times,serif\" font-size=\"14.00\">input = {}</text>\\n<text text-anchor=\"start\" x=\"588\" y=\"-1954.8\" font-family=\"Times,serif\" font-size=\"14.00\">selectindex = 2</text>\\n<text text-anchor=\"middle\" x=\"636\" y=\"-1939.8\" font-family=\"Times,serif\" font-size=\"14.00\">reverseMap = {}</text>\\n</a>\\n</g>\\n</g>\\n<!-- n10&#45;&gt;n8 -->\\n<g id=\"edge10\" class=\"edge\"><title>n10&#45;&gt;n8</title>\\n<path fill=\"none\" stroke=\"black\" d=\"M618.637,-1918.93C615.213,-1909.84 611.425,-1899.79 607.407,-1889.13\"/>\\n<polygon fill=\"black\" stroke=\"black\" points=\"610.622,-1887.74 603.82,-1879.61 604.072,-1890.2 610.622,-1887.74\"/>\\n</g>\\n<!-- n11 -->\\n<g id=\"node11\" class=\"node\"><title>n11</title>\\n<g id=\"a_node11\"><a xlink:title=\"[[C]]:&#45;1_&#45;1\">\\n<ellipse fill=\"none\" stroke=\"black\" cx=\"1228\" cy=\"-1696\" rx=\"79.2942\" ry=\"48.1667\"/>\\n<text text-anchor=\"middle\" x=\"1228\" y=\"-1714.8\" font-family=\"Times,serif\" font-size=\"14.00\">Node11</text>\\n<text text-anchor=\"start\" x=\"1180\" y=\"-1699.8\" font-family=\"Times,serif\" font-size=\"14.00\">input = {}</text>\\n<text text-anchor=\"start\" x=\"1180\" y=\"-1684.8\" font-family=\"Times,serif\" font-size=\"14.00\">selectindex = 1</text>\\n<text text-anchor=\"middle\" x=\"1228\" y=\"-1669.8\" font-family=\"Times,serif\" font-size=\"14.00\">reverseMap = {}</text>\\n</a>\\n</g>\\n</g>\\n<!-- n11&#45;&gt;n9 -->\\n<g id=\"edge11\" class=\"edge\"><title>n11&#45;&gt;n9</title>\\n<path fill=\"none\" stroke=\"black\" d=\"M1238.37,-1647.98C1247.92,-1604.72 1262.73,-1537.57 1277.13,-1472.29\"/>\\n<polygon fill=\"black\" stroke=\"black\" points=\"1280.61,-1472.78 1279.35,-1462.26 1273.78,-1471.27 1280.61,-1472.78\"/>\\n</g>\\n<!-- n12 -->\\n<g id=\"node12\" class=\"node\"><title>n12</title>\\n<g id=\"a_node12\"><a xlink:title=\"[[C]]:&#45;1_ split at [/home/luwei/torch/install/share/lua/5.1/nngraph/gmodule.lua]:96&#45;mnode\">\\n<ellipse fill=\"none\" stroke=\"black\" cx=\"689\" cy=\"-2088\" rx=\"84.2802\" ry=\"37.4533\"/>\\n<text text-anchor=\"middle\" x=\"689\" y=\"-2099.3\" font-family=\"Times,serif\" font-size=\"14.00\">Node12</text>\\n<text text-anchor=\"start\" x=\"637\" y=\"-2084.3\" font-family=\"Times,serif\" font-size=\"14.00\">reverseMap = {}</text>\\n<text text-anchor=\"middle\" x=\"689\" y=\"-2069.3\" font-family=\"Times,serif\" font-size=\"14.00\">nSplitOutputs = 2</text>\\n</a>\\n</g>\\n</g>\\n<!-- n12&#45;&gt;n10 -->\\n<g id=\"edge12\" class=\"edge\"><title>n12&#45;&gt;n10</title>\\n<path fill=\"none\" stroke=\"black\" d=\"M673.098,-2051C669.078,-2041.89 664.667,-2031.91 660.335,-2022.1\"/>\\n<polygon fill=\"black\" stroke=\"black\" points=\"663.462,-2020.51 656.22,-2012.78 657.059,-2023.34 663.462,-2020.51\"/>\\n</g>\\n<!-- n12&#45;&gt;n11 -->\\n<g id=\"edge13\" class=\"edge\"><title>n12&#45;&gt;n11</title>\\n<path fill=\"none\" stroke=\"black\" d=\"M732.198,-2055.74C828.367,-1986.16 1060.22,-1818.4 1169.34,-1739.44\"/>\\n<polygon fill=\"black\" stroke=\"black\" points=\"1171.57,-1742.15 1177.62,-1733.45 1167.47,-1736.48 1171.57,-1742.15\"/>\\n</g>\\n<!-- n13 -->\\n<g id=\"node13\" class=\"node\"><title>n13</title>\\n<g id=\"a_node13\"><a xlink:title=\"[[C]]:&#45;1_\">\\n<ellipse fill=\"none\" stroke=\"black\" cx=\"689\" cy=\"-2200\" rx=\"79.2942\" ry=\"37.4533\"/>\\n<text text-anchor=\"middle\" x=\"689\" y=\"-2211.3\" font-family=\"Times,serif\" font-size=\"14.00\">Node13</text>\\n<text text-anchor=\"start\" x=\"641\" y=\"-2196.3\" font-family=\"Times,serif\" font-size=\"14.00\">input = {}</text>\\n<text text-anchor=\"middle\" x=\"689\" y=\"-2181.3\" font-family=\"Times,serif\" font-size=\"14.00\">reverseMap = {}</text>\\n</a>\\n</g>\\n</g>\\n<!-- n13&#45;&gt;n12 -->\\n<g id=\"edge14\" class=\"edge\"><title>n13&#45;&gt;n12</title>\\n<path fill=\"none\" stroke=\"black\" d=\"M689,-2162.37C689,-2153.93 689,-2144.83 689,-2136.01\"/>\\n<polygon fill=\"black\" stroke=\"black\" points=\"692.5,-2135.84 689,-2125.84 685.5,-2135.84 692.5,-2135.84\"/>\\n</g>\\n</g>\\n</svg>\\n'); // clear any previous plot in window_id     \n",
       "  });\n",
       "</script>\n",
       "<div id=\"0f278294-cfeb-43b0-c373-239496333da8\"></div>\n"
      ]
     },
     "metadata": {},
     "output_type": "display_data"
    }
   ],
   "source": [
    "local net = build_net(1,1)\n",
    "graph.dot(net.fg, 'temp', 'temp')\n",
    "itorch.image('temp.svg')"
   ]
  },
  {
   "cell_type": "code",
   "execution_count": 16,
   "metadata": {
    "collapsed": true
   },
   "outputs": [],
   "source": []
  },
  {
   "cell_type": "code",
   "execution_count": null,
   "metadata": {
    "collapsed": true
   },
   "outputs": [],
   "source": []
  },
  {
   "cell_type": "code",
   "execution_count": null,
   "metadata": {
    "collapsed": true
   },
   "outputs": [],
   "source": []
  },
  {
   "cell_type": "code",
   "execution_count": null,
   "metadata": {
    "collapsed": true
   },
   "outputs": [],
   "source": []
  },
  {
   "cell_type": "code",
   "execution_count": null,
   "metadata": {
    "collapsed": true
   },
   "outputs": [],
   "source": []
  },
  {
   "cell_type": "code",
   "execution_count": null,
   "metadata": {
    "collapsed": true
   },
   "outputs": [],
   "source": []
  }
 ],
 "metadata": {
  "kernelspec": {
   "display_name": "iTorch",
   "language": "lua",
   "name": "itorch"
  },
  "language_info": {
   "name": "lua",
   "version": "5.1"
  }
 },
 "nbformat": 4,
 "nbformat_minor": 0
}
